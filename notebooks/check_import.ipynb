{
 "cells": [
  {
   "cell_type": "code",
   "execution_count": 1,
   "metadata": {},
   "outputs": [],
   "source": [
    "import os\n",
    "import pandas as pd\n",
    "\n",
    "def load_data(file_path, file_name):\n",
    "    # Load the file\n",
    "    Data_file_path = os.path.join(file_path, file_name)\n",
    "    df = pd.read_csv(Data_file_path, header=None)\n",
    "\n",
    "\n",
    "    # Extract the columns into separate DataFrames\n",
    "    dates_dateformat = df.iloc[6:, 0:1]\n",
    "    SPXT = df.iloc[6:, 1:2]\n",
    "    Sectors = df.iloc[6:, 2:13]\n",
    "    Rf = df.iloc[6:, 13:14]\n",
    "    Industry_Groups = df.iloc[6:, 14:39]\n",
    "\n",
    "    # Extract the column names from the sixth row\n",
    "    column_names = df.iloc[2]\n",
    "\n",
    "    # Rename the columns for each DataFrame\n",
    "    dates_dateformat.columns = [column_names[0]]\n",
    "    SPXT.columns = [column_names[1]]\n",
    "    Sectors.columns = column_names[2:13]\n",
    "    Rf.columns = [column_names[13]]\n",
    "    Industry_Groups.columns = column_names[14:39]\n",
    "\n",
    "    # Reset the indexing\n",
    "    dates_dateformat = dates_dateformat.reset_index(drop=True)\n",
    "    SPXT = SPXT.reset_index(drop=True)\n",
    "    Sectors = Sectors.reset_index(drop=True)\n",
    "    Rf = Rf.reset_index(drop=True)\n",
    "    Industry_Groups = Industry_Groups.reset_index(drop=True)\n",
    "\n",
    "    # Return data frames\n",
    "    return dates_dateformat, SPXT, Sectors, Rf, Industry_Groups\n",
    "\n"
   ]
  },
  {
   "cell_type": "code",
   "execution_count": null,
   "metadata": {},
   "outputs": [],
   "source": []
  }
 ],
 "metadata": {
  "kernelspec": {
   "display_name": "spx_industry_mom",
   "language": "python",
   "name": "python3"
  },
  "language_info": {
   "codemirror_mode": {
    "name": "ipython",
    "version": 3
   },
   "file_extension": ".py",
   "mimetype": "text/x-python",
   "name": "python",
   "nbconvert_exporter": "python",
   "pygments_lexer": "ipython3",
   "version": "3.11.5"
  }
 },
 "nbformat": 4,
 "nbformat_minor": 2
}
