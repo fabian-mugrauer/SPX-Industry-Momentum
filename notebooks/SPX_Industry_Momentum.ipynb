{
 "cells": [
  {
   "cell_type": "markdown",
   "id": "4dce70ef",
   "metadata": {},
   "source": [
    "Import packages"
   ]
  },
  {
   "cell_type": "code",
   "execution_count": null,
   "id": "762cd00d",
   "metadata": {},
   "outputs": [],
   "source": [
    "import numpy as np\n",
    "import pandas as pd\n",
    "import matplotlib.pyplot as plt\n",
    "import matplotlib.dates as mdates\n",
    "import seaborn as sns\n",
    "from scipy.stats import skew, kurtosis\n",
    "import statsmodels.api as sm\n",
    "from prettytable import PrettyTable\n",
    "import os\n",
    "import sys\n",
    "from dotenv import load_dotenv\n",
    "from joblib import Memory\n",
    "\n",
    "# Load environment variables from a .env file\n",
    "load_dotenv(dotenv_path='environment_variables.env')\n",
    "\n",
    "# Setup joblib Memory for caching\n",
    "cachedir = './cache_directory'  # Set your cache directory\n",
    "memory = Memory(cachedir, verbose=0)"
   ]
  },
  {
   "cell_type": "markdown",
   "id": "f01fdeed",
   "metadata": {},
   "source": [
    "Import Custom Classes"
   ]
  },
  {
   "cell_type": "code",
   "execution_count": null,
   "id": "8cbf654a",
   "metadata": {},
   "outputs": [],
   "source": [
    "# Add custom directories to the system path for importing classes\n",
    "sys.path.extend(['../src/data', '../src/models', '../src/visualization'])\n",
    "\n",
    "parent_dir = os.path.dirname(os.getcwd())\n",
    "sys.path.append(parent_dir)\n",
    "\n",
    "# Import custom classes\n",
    "from src.models.evaluate_strategy import EvaluateStrategy\n",
    "from src.models.momentum_strategy import MomentumStrategy\n",
    "from src.visualization.visualize_results import Visualizer\n",
    "from src.data.load_data import Dataloader\n",
    "from src.data.process_data import Dataprocessor\n",
    "\n",
    "# Create instances of the imported classes\n",
    "strategy_evaluator = EvaluateStrategy()\n",
    "momentum = MomentumStrategy()\n",
    "visualizer = Visualizer()\n",
    "dataloader = Dataloader()\n",
    "dataprocessor = Dataprocessor()"
   ]
  },
  {
   "cell_type": "markdown",
   "id": "8d4e0b68",
   "metadata": {},
   "source": [
    "Set Environment Variable"
   ]
  },
  {
   "cell_type": "code",
   "execution_count": null,
   "id": "5df72fe7",
   "metadata": {},
   "outputs": [],
   "source": [
    "# Set and retrieve the project path\n",
    "ProjectName = 'SPX-Industry-Momentum'\n",
    "os.environ['RESEARCH_PATH'] = os.environ.get('PROJECT_ROOT')\n",
    "research_path = os.environ.get('RESEARCH_PATH')\n",
    "\n",
    "# Check if the path is set and print it\n",
    "if research_path:\n",
    "    path = os.path.join(research_path, ProjectName)\n",
    "    file_path = os.path.join(path, 'data', 'raw')\n",
    "    picture_path = os.path.join(path, 'reports', 'figures')\n",
    "    print(f\"Project Path: {path}\\nData Path: {file_path}\")\n",
    "else:\n",
    "    print(\"RESEARCH_PATH environment variable is not set.\")"
   ]
  },
  {
   "cell_type": "markdown",
   "id": "092f74bc",
   "metadata": {},
   "source": [
    "Import and Process Data"
   ]
  },
  {
   "cell_type": "code",
   "execution_count": null,
   "id": "f3f4697b",
   "metadata": {
    "lines_to_next_cell": 2
   },
   "outputs": [],
   "source": [
    "\n",
    "# Decorate the load_data function with joblib cache\n",
    "load_data_csv_cached = memory.cache(dataloader.load_data_csv)\n",
    "\n",
    "# Define csv file to load\n",
    "file_name = 'Bloomberg_Download.csv'\n",
    "\n",
    "# Load the data using the cached function\n",
    "dates_dateformat, SPXT, Sectors, Rf, Industry_Groups = load_data_csv_cached(file_path, file_name)\n",
    "\n",
    "# Decorate the process_data functions with joblib cache\n",
    "process_data_cached = memory.cache(dataprocessor.process_data)\n",
    "\n",
    "# Process the data using the cached functions\n",
    "dates_datetime, numericDate_d, firstDayList, lastDayList, dates4plot, Sectors_returns_d, Sectors_returns_m, sector_names, Industry_Groups_returns_d, Industry_Groups_returns_m, IG_names, SPXT_returns_d, SPXT_returns_m, SPXT_Xsreturns_m, rf_d_unadjusted, rf_d, rf_d_monthly = process_data_cached(dates_dateformat, Sectors, Industry_Groups, SPXT, Rf)"
   ]
  },
  {
   "cell_type": "markdown",
   "id": "39079b23",
   "metadata": {},
   "source": [
    "Define Meta-variables for Analysis"
   ]
  },
  {
   "cell_type": "code",
   "execution_count": null,
   "id": "4f6d9efd",
   "metadata": {},
   "outputs": [],
   "source": [
    "# Define analysis parameters\n",
    "trx_cost = 0.001\n",
    "nLong = 3\n",
    "startMonth = 13\n",
    "lookback_period_start, lookback_period_end = 9, 1\n",
    "holding_period = 3"
   ]
  },
  {
   "cell_type": "markdown",
   "id": "997783a8",
   "metadata": {},
   "source": [
    "Run Sector Momentum Analysis"
   ]
  },
  {
   "cell_type": "code",
   "execution_count": null,
   "id": "e85fabd1",
   "metadata": {},
   "outputs": [],
   "source": [
    "# Perform the momentum strategy backtest\n",
    "xsReturns_TC, totalReturns_TC, weights = momentum.backtest_momentum(Sectors_returns_m, rf_d_monthly, lookback_period_start, lookback_period_end, holding_period, startMonth, nLong, 0, trx_cost)\n",
    "xsReturns_TC_IG, totalReturns_TC_IG, weights_IG = momentum.backtest_momentum(Industry_Groups_returns_m, rf_d_monthly, lookback_period_start, lookback_period_end, holding_period, startMonth, nLong, 0, trx_cost)\n",
    "\n",
    "# Long / Short implementation\n",
    "xsReturns_TC_LS, totalReturns_TC_LS, weights_LS = momentum.backtest_momentum(Sectors_returns_m, rf_d_monthly, lookback_period_start, lookback_period_end, holding_period, startMonth, nLong, 3, trx_cost)\n",
    "xsReturns_TC_IG_LS, totalReturns_TC_IG_LS, weights_IG_LS = momentum.backtest_momentum(Industry_Groups_returns_m, rf_d_monthly, lookback_period_start, lookback_period_end, holding_period, startMonth, nLong, 3, trx_cost)"
   ]
  },
  {
   "cell_type": "markdown",
   "id": "3423d4ee",
   "metadata": {},
   "source": [
    "Analysis Output"
   ]
  },
  {
   "cell_type": "code",
   "execution_count": null,
   "id": "c6d8f751",
   "metadata": {},
   "outputs": [],
   "source": [
    "# Visualize the weights using a heatmap\n",
    "\n",
    "fig1 = visualizer.create_colorheatmap(weights, weights_IG, sector_names, IG_names)\n",
    "fig1.savefig(os.path.join(picture_path, 'strategy_weights_long.png'), dpi=300)\n",
    "\n",
    "# Long/Short\n",
    "fig2 = visualizer.create_colorheatmap(weights_LS, weights_IG_LS, sector_names, IG_names)\n",
    "fig2.savefig(os.path.join(picture_path, 'strategy_weights_long_short.png'), dpi=300)\n",
    "\n",
    "# Visualize strategy returns against the benchmark\n",
    "fig3 = visualizer.plot_strategies_with_benchmark(dates4plot, totalReturns_TC, SPXT_returns_m, 'Sector Momentum', startMonth, totalReturns_TC_IG, 'Industry Group Momentum')\n",
    "fig3.savefig(os.path.join(picture_path, 'strategy_plot.png'), dpi=300)\n",
    "\n",
    "fig4 = visualizer.plot_strategies_with_benchmark(dates4plot, totalReturns_TC_LS, rf_d_monthly, 'Sector Momentum Long/Short', startMonth, totalReturns_TC_IG_LS, 'Industry Group Momentum Long/Short')\n",
    "fig4.savefig(os.path.join(picture_path, 'strategy_plot_long_short.png'), dpi=300)"
   ]
  },
  {
   "cell_type": "code",
   "execution_count": null,
   "id": "5e394987",
   "metadata": {},
   "outputs": [],
   "source": [
    "# Summarize and print performance metrics\n",
    "ArithmAvgTotalReturn, ArithmAvgXsReturn, StdXsReturns, SharpeArithmetic, MinXsReturn, MaxXsReturn, SkewXsReturn, KurtXsReturn, alphaArithmetic, tvaluealpha, betas, summary_table = strategy_evaluator.summarize_performance(xsReturns_TC, rf_d_monthly, SPXT_Xsreturns_m, 12, startMonth, 'Sectors')\n",
    "ArithmAvgTotalReturn_IG, ArithmAvgXsReturn_IG, StdXsReturns_IG, SharpeArithmetic_IG, MinXsReturn_IG, MaxXsReturn_IG, SkewXsReturn_IG, KurtXsReturn_IG, alphaArithmetic_IG, tvaluealpha_IG, betas_IG, summary_table_IG = strategy_evaluator.summarize_performance(xsReturns_TC_IG, rf_d_monthly, SPXT_Xsreturns_m, 12, startMonth, 'Industry Groups')\n",
    "print(summary_table)\n",
    "print(summary_table_IG)"
   ]
  },
  {
   "cell_type": "markdown",
   "id": "9b94070f",
   "metadata": {},
   "source": [
    "Robustness Checks"
   ]
  },
  {
   "cell_type": "code",
   "execution_count": null,
   "id": "9d0436ae",
   "metadata": {},
   "outputs": [],
   "source": [
    "# Define parameters and initialize empty lists or arrays\n",
    "lookback_period_range = range(3, 13)  # Example range from 3 to 12\n",
    "\n",
    "# Perform the robustness check for lookback period\n",
    "sharpe_ratios_lookback = EvaluateStrategy.perform_robustness_check(\n",
    "    momentum, 'lookback', lookback_period_range, Sectors_returns_m, rf_d_monthly, \n",
    "    SPXT_returns_m, lookback_period_end, startMonth, nLong, 0, trx_cost, holding_period\n",
    ")\n",
    "\n",
    "sharpe_ratios_lookback_IG = EvaluateStrategy.perform_robustness_check(\n",
    "    momentum, 'lookback', lookback_period_range, Industry_Groups_returns_m, rf_d_monthly, \n",
    "    SPXT_returns_m, lookback_period_end, startMonth, nLong, 0, trx_cost, holding_period\n",
    ")\n",
    "\n",
    "# Plot the results for lookback period robustness check\n",
    "fig5 = visualizer.plot_robustness_check(lookback_period_range, sharpe_ratios_lookback, 'lookback', sharpe_ratios_lookback_IG, ['Sectors', 'Industry Groups']) \n",
    "fig5.savefig(os.path.join(picture_path, 'robustness_check_lb.png'), dpi=300)"
   ]
  },
  {
   "cell_type": "code",
   "execution_count": null,
   "id": "69fffc35",
   "metadata": {},
   "outputs": [],
   "source": [
    "# Define the range for the investment horizon\n",
    "investment_horizon_range = range(1, 6)  # Example range\n",
    "\n",
    "# Perform the robustness check for investment horizon\n",
    "sharpe_ratios_investment_horizon = EvaluateStrategy.perform_robustness_check(\n",
    "    momentum, 'investment_horizon', investment_horizon_range, Sectors_returns_m, rf_d_monthly, \n",
    "    SPXT_returns_m, lookback_period_end, startMonth, nLong, 0, trx_cost, holding_period\n",
    ")\n",
    "\n",
    "sharpe_ratios_investment_horizon_IG = EvaluateStrategy.perform_robustness_check(\n",
    "    momentum, 'investment_horizon', investment_horizon_range, Industry_Groups_returns_m, rf_d_monthly, \n",
    "    SPXT_returns_m, lookback_period_end, startMonth, nLong, 0, trx_cost, holding_period\n",
    ")\n",
    "\n",
    "# Plot the results for investment horizon robustness check\n",
    "fig6 = visualizer.plot_robustness_check(investment_horizon_range, sharpe_ratios_investment_horizon, 'investment_horizon', sharpe_ratios_investment_horizon_IG, ['Sectors', 'Industry Groups'])\n",
    "fig6.savefig(os.path.join(picture_path, 'robustness_check_ih.png'), dpi=300)"
   ]
  },
  {
   "cell_type": "code",
   "execution_count": null,
   "id": "e81e8b92",
   "metadata": {},
   "outputs": [],
   "source": [
    "# Define the range for the number of holdings\n",
    "holdings_range = range(1, 6)  # Example range\n",
    "\n",
    "# Perform the robustness check for number of holdings\n",
    "sharpe_ratios_holdings = EvaluateStrategy.perform_robustness_check(\n",
    "    momentum, 'holdings', holdings_range, Sectors_returns_m, rf_d_monthly, \n",
    "    SPXT_returns_m, lookback_period_end, startMonth, nLong, 0, trx_cost, holding_period\n",
    ")\n",
    "\n",
    "sharpe_ratios_holdings_IG = EvaluateStrategy.perform_robustness_check(\n",
    "    momentum, 'holdings', holdings_range, Industry_Groups_returns_m, rf_d_monthly, \n",
    "    SPXT_returns_m, lookback_period_end, startMonth, nLong, 0, trx_cost, holding_period\n",
    ")\n",
    "\n",
    "# Plot the results for number of holdings robustness check\n",
    "fig7 = visualizer.plot_robustness_check(holdings_range, sharpe_ratios_holdings, 'holdings', sharpe_ratios_holdings_IG,['Sectors', 'Industry Groups'])\n",
    "fig7.savefig(os.path.join(picture_path, 'robustness_check_holdings.png'), dpi=300)"
   ]
  },
  {
   "cell_type": "code",
   "execution_count": null,
   "id": "e3449151",
   "metadata": {},
   "outputs": [],
   "source": [
    "tx_costs = [0.001, 0.0025, 0.005, 0.01]\n",
    "total_returns_tx_costs = []\n",
    "total_returns_tx_costs_IG  = []\n",
    "labels = []\n",
    "\n",
    "for trx_cost in tx_costs:\n",
    "    _, totalReturns_TC, _ = momentum.backtest_momentum(\n",
    "        Sectors_returns_m, rf_d_monthly, lookback_period_start, lookback_period_end,\n",
    "        holding_period, startMonth, nLong, 0, trx_cost\n",
    "    )\n",
    "\n",
    "    _, totalReturns_TC_IG, _ = momentum.backtest_momentum(\n",
    "        Industry_Groups_returns_m, rf_d_monthly, lookback_period_start, lookback_period_end,\n",
    "        holding_period, startMonth, nLong, 0, trx_cost\n",
    "    )\n",
    "\n",
    "    # Storing the total returns in a list\n",
    "    total_returns_tx_costs.append(totalReturns_TC)\n",
    "    total_returns_tx_costs_IG.append(totalReturns_TC_IG)\n",
    "\n",
    "    # Creating corresponding labels\n",
    "    labels.append(f'Trx Cost: {trx_cost}')\n",
    "\n",
    "fig8 = visualizer.plot_strategies_with_benchmark(dates4plot, total_returns_tx_costs_IG, SPXT_returns_m, labels, startMonth)\n",
    "fig8.savefig(os.path.join(picture_path, 'robustness_check_tc.png'), dpi=300)"
   ]
  }
 ],
 "metadata": {
  "jupytext": {
   "cell_metadata_filter": "-all",
   "main_language": "python",
   "notebook_metadata_filter": "-all"
  }
 },
 "nbformat": 4,
 "nbformat_minor": 5
}
